{
 "cells": [
  {
   "cell_type": "code",
   "execution_count": 1,
   "id": "3351f4f9",
   "metadata": {},
   "outputs": [],
   "source": [
    "import torch\n",
    "import numpy as np\n",
    "from torch import tensor\n",
    "from numpy import array\n",
    "from numpy import transpose"
   ]
  },
  {
   "cell_type": "code",
   "execution_count": 2,
   "id": "49208163",
   "metadata": {},
   "outputs": [
    {
     "name": "stdout",
     "output_type": "stream",
     "text": [
      "x: tensor(1., requires_grad=True)\n",
      "y: tensor(1., grad_fn=<PowBackward0>)\n",
      "x.grad: tensor(2.)\n"
     ]
    }
   ],
   "source": [
    "# input is scalar, output is scalar\n",
    "x = tensor(1.0, requires_grad=True)\n",
    "print('x:', x)\n",
    "y = x**2\n",
    "print('y:', y)\n",
    "y.backward() # this is the same as y.backward(tensor(1.0))\n",
    "print('x.grad:', x.grad)\n",
    "\n",
    "# want: dy/dx\n",
    "# dy/dx = d(x^2)/dx = 2x where x is 1, so\n",
    "# gradient is 2"
   ]
  },
  {
   "cell_type": "code",
   "execution_count": 3,
   "id": "d73537ce",
   "metadata": {},
   "outputs": [
    {
     "name": "stdout",
     "output_type": "stream",
     "text": [
      "J: [[2.]]\n"
     ]
    }
   ],
   "source": [
    "x = x.detach().numpy()\n",
    "J = array([[2*x]])\n",
    "print('J:', J)"
   ]
  },
  {
   "cell_type": "code",
   "execution_count": 4,
   "id": "2e4d9c97",
   "metadata": {},
   "outputs": [
    {
     "name": "stdout",
     "output_type": "stream",
     "text": [
      "v: [[1]]\n",
      "v*J: [[2.]]\n"
     ]
    }
   ],
   "source": [
    "v = array([[1,]])\n",
    "print('v:', v)\n",
    "print('v*J:', v@J)"
   ]
  },
  {
   "cell_type": "code",
   "execution_count": 5,
   "id": "14163c08",
   "metadata": {},
   "outputs": [
    {
     "name": "stdout",
     "output_type": "stream",
     "text": [
      "x: tensor(1., requires_grad=True)\n",
      "y: tensor(1., grad_fn=<PowBackward0>)\n",
      "None\n",
      "x.grad: tensor(200.)\n"
     ]
    }
   ],
   "source": [
    "# input is scalar, output is scalar, non-default gradient\n",
    "x = torch.tensor(1.0, requires_grad=True)\n",
    "print('x:', x)\n",
    "y = x**2\n",
    "print('y:', y)\n",
    "gradient_value=100.0\n",
    "print(y.backward(torch.tensor(gradient_value)))\n",
    "print('x.grad:', x.grad)"
   ]
  },
  {
   "cell_type": "code",
   "execution_count": 6,
   "id": "cd8dd3b7",
   "metadata": {},
   "outputs": [
    {
     "name": "stdout",
     "output_type": "stream",
     "text": [
      "J: [[2.]]\n",
      "v: [[100.]]\n",
      "v*J: [[200.]]\n"
     ]
    }
   ],
   "source": [
    "x = x.detach().numpy()\n",
    "J = array([[2*x]])\n",
    "print('J:', J)\n",
    "\n",
    "v = array([[gradient_value,]])\n",
    "print('v:', v)\n",
    "print('v*J:', v@J)"
   ]
  },
  {
   "cell_type": "code",
   "execution_count": 7,
   "id": "5bdab0b6",
   "metadata": {},
   "outputs": [
    {
     "name": "stdout",
     "output_type": "stream",
     "text": [
      "x: tensor([1., 2.], requires_grad=True)\n",
      "y: tensor(3., grad_fn=<AddBackward0>)\n",
      "x.grad: tensor([1., 1.])\n"
     ]
    }
   ],
   "source": [
    "# input is vector, output is scalar\n",
    "x = tensor([1.,2.], requires_grad=True)\n",
    "print('x:', x)\n",
    "y = sum(x)\n",
    "print('y:', y)\n",
    "y.backward()\n",
    "print('x.grad:', x.grad)"
   ]
  },
  {
   "cell_type": "code",
   "execution_count": 8,
   "id": "e477c18d",
   "metadata": {},
   "outputs": [
    {
     "name": "stdout",
     "output_type": "stream",
     "text": [
      "J:\n",
      " [[1 1]]\n"
     ]
    }
   ],
   "source": [
    "J = array([[1,1]])\n",
    "print('J:\\n', J)"
   ]
  },
  {
   "cell_type": "code",
   "execution_count": 9,
   "id": "2d33eb86",
   "metadata": {},
   "outputs": [
    {
     "name": "stdout",
     "output_type": "stream",
     "text": [
      "v: [[1]]\n",
      "v*J: [[1 1]]\n"
     ]
    }
   ],
   "source": [
    "v = array([[1]])\n",
    "print('v:', v)\n",
    "print('v*J:', v@J)"
   ]
  },
  {
   "cell_type": "code",
   "execution_count": 10,
   "id": "36f49c14",
   "metadata": {},
   "outputs": [
    {
     "name": "stdout",
     "output_type": "stream",
     "text": [
      "x: tensor([1., 2.], requires_grad=True)\n",
      "y: tensor([ 3., 12.], grad_fn=<MulBackward0>)\n",
      "x.grad tensor([ 6., 12.])\n"
     ]
    }
   ],
   "source": [
    "# input is vector, output is vector\n",
    "x = tensor([1., 2.], requires_grad=True)\n",
    "print('x:', x)\n",
    "y = 3*x**2\n",
    "print('y:', y)\n",
    "gradient_value = [1., 1.]\n",
    "y.backward(tensor(gradient_value))\n",
    "print('x.grad', x.grad)"
   ]
  },
  {
   "cell_type": "code",
   "execution_count": 11,
   "id": "43e1f045",
   "metadata": {},
   "outputs": [
    {
     "name": "stdout",
     "output_type": "stream",
     "text": [
      "J:\n",
      " [[ 6.  0.]\n",
      " [ 0. 12.]]\n"
     ]
    }
   ],
   "source": [
    "x = x.detach().numpy()\n",
    "J = array([[6*x[0], 0],\n",
    "           [0,6*x[1]]])\n",
    "print('J:\\n', J)"
   ]
  },
  {
   "cell_type": "code",
   "execution_count": 12,
   "id": "9c9cb56c",
   "metadata": {},
   "outputs": [
    {
     "name": "stdout",
     "output_type": "stream",
     "text": [
      "v trans: [[1.]\n",
      " [1.]]\n",
      "J trans: [[ 6.  0.]\n",
      " [ 0. 12.]]\n",
      "v: [[1. 1.]]\n",
      "v*J: [[ 6. 12.]]\n"
     ]
    }
   ],
   "source": [
    "v = array([gradient_value])\n",
    "# v = 1 10 100\n",
    "\n",
    "# J = 6 0\n",
    "#      0 12\n",
    "print('v trans:', transpose(v)) \n",
    "print('J trans:', transpose(J))\n",
    "\n",
    "print('v:', v)\n",
    "print('v*J:', v@J)"
   ]
  },
  {
   "cell_type": "code",
   "execution_count": 13,
   "id": "ea23f562",
   "metadata": {},
   "outputs": [
    {
     "name": "stdout",
     "output_type": "stream",
     "text": [
      "x: tensor([1., 2.], requires_grad=True)\n",
      "y: tensor([ 3., 12.], grad_fn=<MulBackward0>)\n",
      "x.grad: tensor([  6., 120.])\n"
     ]
    }
   ],
   "source": [
    "# input is vector, output is vector, non-one gradient\n",
    "x = tensor([1., 2.], requires_grad=True)\n",
    "print('x:', x)\n",
    "y = 3*x**2\n",
    "print('y:', y)\n",
    "gradient_value = [1., 10.]\n",
    "y.backward(tensor(gradient_value))\n",
    "print('x.grad:', x.grad)"
   ]
  },
  {
   "cell_type": "code",
   "execution_count": 14,
   "id": "c911445f",
   "metadata": {},
   "outputs": [
    {
     "name": "stdout",
     "output_type": "stream",
     "text": [
      "J:\n",
      " [[ 6.  0.]\n",
      " [ 0. 12.]]\n",
      "v: [[ 1. 10.]]\n",
      "v*J: [[  6. 120.]]\n"
     ]
    }
   ],
   "source": [
    "x = x.detach().numpy()\n",
    "J = array([[6*x[0], 0], [0, 6*x[1]]])\n",
    "print('J:\\n', J)\n",
    "\n",
    "v = array([gradient_value])\n",
    "print('v:', v)\n",
    "print('v*J:', v@J)"
   ]
  },
  {
   "cell_type": "code",
   "execution_count": 15,
   "id": "8ba0b076",
   "metadata": {},
   "outputs": [
    {
     "name": "stdout",
     "output_type": "stream",
     "text": [
      "x: tensor([1., 2.], requires_grad=True)\n",
      "y: tensor([ 3., 17., 20.], grad_fn=<CopySlices>)\n",
      "x.grad: tensor([  26., 1240.])\n"
     ]
    }
   ],
   "source": [
    "# input is vector, output is vector - another example\n",
    "x = tensor([1., 2.], requires_grad=True)\n",
    "print('x:', x)\n",
    "y = torch.empty(3)\n",
    "y[0]=3*x[0]**2\n",
    "y[1]=x[0]**2 + 2*x[1]**3\n",
    "y[2]=10*x[1]\n",
    "print('y:', y)\n",
    "gradient_value = [1., 10., 100.,]\n",
    "y.backward(tensor(gradient_value))\n",
    "print('x.grad:', x.grad)"
   ]
  },
  {
   "cell_type": "code",
   "execution_count": 16,
   "id": "95c50ea7",
   "metadata": {},
   "outputs": [
    {
     "name": "stdout",
     "output_type": "stream",
     "text": [
      "J:\n",
      " [[ 6.  0.]\n",
      " [ 2. 24.]\n",
      " [ 0. 10.]]\n",
      "v: [1. 1. 1.]\n",
      "v*J: [ 8. 34.]\n"
     ]
    }
   ],
   "source": [
    "x = x.detach().numpy()\n",
    "J = array([[6*x[0], 0],\n",
    "          [2*x[0], 6*x[1]**2],\n",
    "          [0, 10]])\n",
    "print('J:\\n', J)\n",
    "\n",
    "# the jacobian matrix\n",
    "# 6 0         \n",
    "# 2 24    \n",
    "# 0 10         \n",
    "\n",
    "v = array([1., 1., 1.])\n",
    "# vector\n",
    "# 1\n",
    "# 10\n",
    "# 100\n",
    "\n",
    "print('v:', v)\n",
    "print('v*J:', v@J)\n",
    "# output ??\n",
    "# 8\n",
    "# 34"
   ]
  },
  {
   "cell_type": "code",
   "execution_count": 17,
   "id": "938e06dd",
   "metadata": {},
   "outputs": [
    {
     "name": "stdout",
     "output_type": "stream",
     "text": [
      "a: tensor([2., 3.], requires_grad=True)\n",
      "b: tensor([6., 4.], requires_grad=True)\n",
      "Q: tensor([-12.,  65.], grad_fn=<SubBackward0>)\n",
      "a.grad: tensor([36., 81.])\n",
      "b.grad: tensor([-12.,  -8.])\n"
     ]
    }
   ],
   "source": [
    "#########\n",
    "a = tensor([2., 3.], requires_grad=True)\n",
    "b = tensor([6., 4.], requires_grad=True)\n",
    "print('a:', a)\n",
    "print('b:', b)\n",
    "\n",
    "Q = 3*a**3 - b**2\n",
    "# Jacobian matrix\n",
    "#\n",
    "#\n",
    "#\n",
    "\n",
    "\n",
    "print('Q:', Q)\n",
    "gradient = tensor([1., 1.])\n",
    "Q.backward(gradient=gradient)\n",
    "print('a.grad:', a.grad)\n",
    "print('b.grad:', b.grad)\n"
   ]
  },
  {
   "cell_type": "code",
   "execution_count": 18,
   "id": "d5d4cecf",
   "metadata": {},
   "outputs": [],
   "source": [
    "from torch.autograd import Variable\n",
    "import torch"
   ]
  },
  {
   "cell_type": "code",
   "execution_count": 19,
   "id": "d76874cd",
   "metadata": {},
   "outputs": [
    {
     "name": "stdout",
     "output_type": "stream",
     "text": [
      "x: tensor([[1., 2., 3., 4.]], requires_grad=True)\n",
      "z: tensor([[2., 4., 6., 8.]], grad_fn=<MulBackward0>)\n",
      "loss: tensor([20.], grad_fn=<SumBackward1>)\n",
      "tensor([[2., 0., 0., 0.]])\n",
      "tensor([[0., 2., 0., 0.]])\n",
      "tensor([[2., 2., 2., 2.]])\n",
      "tensor([[2., 2., 2., 2.]])\n"
     ]
    }
   ],
   "source": [
    "x = Variable(torch.FloatTensor([[1, 2, 3, 4]]), requires_grad=True)\n",
    "z = 2*x\n",
    "loss = z.sum(dim=1)\n",
    "print('x:', x)\n",
    "print('z:', z)\n",
    "print('loss:', loss)\n",
    "\n",
    "# do backward for first element of z\n",
    "z.backward(torch.FloatTensor([[1,0,0,0]]), retain_graph=True)\n",
    "print(x.grad.data)\n",
    "x.grad.data.zero_() #remove gradient in x.grad, or it will accumulate\n",
    "\n",
    "# do backward for second element of z\n",
    "z.backward(torch.FloatTensor([[0,1,0,0]]), retain_graph=True)\n",
    "print(x.grad.data)\n",
    "x.grad.data.zero_()\n",
    "\n",
    "# do backward for all elements of z, with weight equal to the derivitive of\n",
    "# loss with respect to z_1, z_2, z_3, and z_4\n",
    "z.backward(torch.FloatTensor([[1,1,1,1]]), retain_graph=True)\n",
    "print(x.grad.data)\n",
    "x.grad.data.zero_()\n",
    "\n",
    "# or we can directly backprop using loss\n",
    "loss.backward()\n",
    "print(x.grad.data)"
   ]
  },
  {
   "cell_type": "code",
   "execution_count": 20,
   "id": "7f95ba8b",
   "metadata": {},
   "outputs": [
    {
     "name": "stdout",
     "output_type": "stream",
     "text": [
      "tensor([1., 1., 1.], requires_grad=True)\n",
      "tensor([2., 2., 2.], grad_fn=<MulBackward0>)\n",
      "tensor([10., 10., 10.], grad_fn=<MulBackward0>)\n",
      "tensor([10., 10., 10.], grad_fn=<MulBackward0>)\n",
      "tensor(30., grad_fn=<SumBackward0>)\n",
      "tensor([20., 20., 20.])\n"
     ]
    }
   ],
   "source": [
    "x = torch.ones(3, requires_grad=True)\n",
    "print(x)\n",
    "# 1 1 1\n",
    "y = 2*x**2 # y = 2x^2\n",
    "print(y)\n",
    "# 2 2 2\n",
    "z = 5*y # z = 5y\n",
    "print(z)\n",
    "# 10 10 10\n",
    " # L = z + z + z\n",
    "# 30\n",
    "print(z)\n",
    "# z.backward(tensor([1,1,1]))\n",
    "loss = z.sum()\n",
    "print(loss)\n",
    "loss.backward()\n",
    "print(x.grad)\n",
    "\n",
    "# want dz/dx\n",
    "# dz/dy = d(5y)/dy = 5\n",
    "# dy/dx = d(2x^2)/dx = 4x\n",
    "# dz/dx = dz/dy * dy/dx = 5 * 4x\n",
    "# where x is = 1 so we have\n",
    "# 5 * 4(1) = 20\n",
    "# thus the grad is 20\n"
   ]
  },
  {
   "cell_type": "markdown",
   "id": "97ffc932",
   "metadata": {},
   "source": [
    "Implementing basic NN \n",
    "\n",
    "We are essentially trying to calculate the correct weights so our output is essentially, λx.2x\n",
    "\n"
   ]
  },
  {
   "cell_type": "code",
   "execution_count": 21,
   "id": "7f06d989",
   "metadata": {},
   "outputs": [],
   "source": [
    "import numpy as np\n",
    "from numpy import array"
   ]
  },
  {
   "cell_type": "code",
   "execution_count": 22,
   "id": "7fc528d7",
   "metadata": {},
   "outputs": [
    {
     "name": "stdout",
     "output_type": "stream",
     "text": [
      "Prediction before training: f(5) = 0.000\n",
      "epoch 1: w = 1.200, loss = 30.00000000\n",
      "epoch 2: w = 1.680, loss = 4.79999924\n",
      "epoch 3: w = 1.872, loss = 0.76800019\n",
      "epoch 4: w = 1.949, loss = 0.12288000\n",
      "epoch 5: w = 1.980, loss = 0.01966083\n",
      "epoch 6: w = 1.992, loss = 0.00314570\n",
      "epoch 7: w = 1.997, loss = 0.00050332\n",
      "epoch 8: w = 1.999, loss = 0.00008053\n",
      "epoch 9: w = 1.999, loss = 0.00001288\n",
      "epoch 10: w = 2.000, loss = 0.00000206\n",
      "prediction after taining f(5) = 9.999\n"
     ]
    }
   ],
   "source": [
    "# f = w * x\n",
    "# f = 2 * x\n",
    "\n",
    "X = array([1,2,3,4], dtype=np.float32)\n",
    "Y = array([2,4,6,8], dtype=np.float32)\n",
    "\n",
    "w = 0.0\n",
    "\n",
    "# model prediction\n",
    "def forward(x):\n",
    "    return w*x\n",
    "# loss = MSE\n",
    "def loss(y, y_predicted):\n",
    "    return ((y_predicted - y)**2).mean()\n",
    "    \n",
    "# gradient\n",
    "# MSE = 1/N * (w*x - y)**2\n",
    "# dJ/dw = 1/N 2x (w*x - y)\n",
    "def gradient(x,y,y_predicted):\n",
    "    return ((2*x)@(y_predicted-y)).mean()\n",
    "\n",
    "print(f'Prediction before training: f(5) = {forward(5):.3f}')\n",
    "\n",
    "# training\n",
    "learning_rate = 0.01\n",
    "n_iters = 10\n",
    "\n",
    "for epoch in range(n_iters):\n",
    "    # prediction = forward pass\n",
    "    y_pred = forward(X)\n",
    "    \n",
    "    # loss\n",
    "    l = loss(Y, y_pred)\n",
    "    \n",
    "    # gradients\n",
    "    dw = gradient(X, Y, y_pred)\n",
    "    \n",
    "    # update weights\n",
    "    w -= learning_rate * dw\n",
    "    \n",
    "    if epoch % 1 == 0:\n",
    "        print(f'epoch {epoch + 1}: w = {w:.3f}, loss = {l:.8f}')\n",
    "\n",
    "\n",
    "print(f'prediction after taining f(5) = {forward(5):.3f}')"
   ]
  },
  {
   "cell_type": "markdown",
   "id": "55634fc3",
   "metadata": {},
   "source": [
    "That stuff put with pytorch"
   ]
  },
  {
   "cell_type": "markdown",
   "id": "5ca2cdaf",
   "metadata": {},
   "source": [
    "1. Design our model (input size, output size, forward pass)\n",
    "2. Construct loss and optimizer\n",
    "3. Training loop\n",
    "    - forward pass: compute prediction\n",
    "    - backward pass: gradients\n",
    "    - update our weights\n"
   ]
  },
  {
   "cell_type": "code",
   "execution_count": 23,
   "id": "cf7720cb",
   "metadata": {},
   "outputs": [],
   "source": [
    "import torch\n",
    "from torch import tensor\n",
    "import torch.nn as nn"
   ]
  },
  {
   "cell_type": "code",
   "execution_count": 24,
   "id": "52742f8f",
   "metadata": {},
   "outputs": [
    {
     "name": "stdout",
     "output_type": "stream",
     "text": [
      "4 1\n",
      "Prediction before training: f(5) = -4.832\n",
      "epoch 1: w = -0.369, loss = 70.25897217\n",
      "epoch 11: w = 1.553, loss = 1.82658696\n",
      "epoch 21: w = 1.864, loss = 0.05556539\n",
      "epoch 31: w = 1.916, loss = 0.00926132\n",
      "epoch 41: w = 1.926, loss = 0.00760795\n",
      "epoch 51: w = 1.930, loss = 0.00713630\n",
      "epoch 61: w = 1.932, loss = 0.00672018\n",
      "epoch 71: w = 1.934, loss = 0.00632901\n",
      "epoch 81: w = 1.936, loss = 0.00596063\n",
      "epoch 91: w = 1.938, loss = 0.00561370\n",
      "prediction after taining f(5) = 9.875\n"
     ]
    }
   ],
   "source": [
    "X = tensor([[1],[2],[3],[4]], dtype=torch.float32)\n",
    "Y = tensor([[2],[4],[6],[8]], dtype=torch.float32)\n",
    "\n",
    "# forward\n",
    "\n",
    "n_samples, n_features = X.shape\n",
    "print(n_samples, n_features)\n",
    "\n",
    "input_size = n_features\n",
    "output_size = n_features\n",
    "# model = nn.Linear(input_size, output_size,)\n",
    "\n",
    "class LinearRegression(nn.Module):\n",
    "    \n",
    "    def __init__(self, input_dim, output_dim):\n",
    "        super(LinearRegression, self).__init__()\n",
    "        # define layers\n",
    "        self.lin = nn.Linear(input_dim, output_dim)\n",
    "        \n",
    "    def forward(self, x):\n",
    "        return self.lin(x)\n",
    "    \n",
    "model = LinearRegression(input_size, output_size)\n",
    "\n",
    "# model prediction\n",
    "X_test = tensor([5.])\n",
    "print(f'Prediction before training: f(5) = {model(X_test).item():.3f}')\n",
    "\n",
    "# training\n",
    "learning_rate = 0.01\n",
    "n_iters = 100\n",
    "\n",
    "loss = nn.MSELoss()\n",
    "optimizer = torch.optim.SGD(model.parameters(), lr=learning_rate)\n",
    "# SGD = Stochastic Gradient Descent \n",
    "\n",
    "for epoch in range(n_iters):\n",
    "    # prediction = forward pass\n",
    "    y_pred = model(X)\n",
    "    \n",
    "    # loss\n",
    "    l = loss(Y, y_pred)\n",
    "    \n",
    "    # gradients = backward pass\n",
    "    l.backward() #dL/dw\n",
    "    \n",
    "    # update weights\n",
    "    optimizer.step()\n",
    "    \n",
    "    # zero gradients\n",
    "    optimizer.zero_grad()\n",
    "    \n",
    "    if epoch % 10 == 0:\n",
    "        [w,b] = model.parameters()\n",
    "        print(f'epoch {epoch + 1}: w = {w[0][0].item():.3f}, loss = {l:.8f}')\n",
    "\n",
    "\n",
    "print(f'prediction after taining f(5) = {model(X_test).item():.3f}')"
   ]
  },
  {
   "cell_type": "markdown",
   "id": "ff6bc665",
   "metadata": {},
   "source": [
    "Implementing linear regression"
   ]
  },
  {
   "cell_type": "code",
   "execution_count": 25,
   "id": "5f77b4b5",
   "metadata": {},
   "outputs": [],
   "source": [
    "import torch\n",
    "import torch.nn as nn\n",
    "import numpy as np\n",
    "from sklearn import datasets\n",
    "import matplotlib.pyplot as plt\n",
    "#0) prepare data\n",
    "#1) model\n",
    "#2) loss and optimizer\n",
    "#3) training loop"
   ]
  },
  {
   "cell_type": "code",
   "execution_count": 26,
   "id": "35c966f3",
   "metadata": {},
   "outputs": [
    {
     "name": "stdout",
     "output_type": "stream",
     "text": [
      "epoch: 10, loss: 4431.1890\n",
      "epoch: 20, loss: 3303.3381\n",
      "epoch: 30, loss: 2487.8652\n",
      "epoch: 40, loss: 1897.5914\n",
      "epoch: 50, loss: 1469.8834\n",
      "epoch: 60, loss: 1159.6711\n",
      "epoch: 70, loss: 934.4776\n",
      "epoch: 80, loss: 770.8683\n",
      "epoch: 90, loss: 651.9117\n",
      "epoch: 100, loss: 565.3616\n"
     ]
    },
    {
     "data": {
      "image/png": "[encoded data removed]",
      "text/plain": [
       "<Figure size 432x288 with 1 Axes>"
      ]
     },
     "metadata": {
      "needs_background": "light"
     },
     "output_type": "display_data"
    }
   ],
   "source": [
    "# preparing data\n",
    "X_numpy, Y_numpy = datasets.make_regression(n_samples=100, n_features=1, noise=20, random_state=1)\n",
    "\n",
    "X = torch.from_numpy(X_numpy.astype(np.float32))\n",
    "Y = torch.from_numpy(Y_numpy.astype(np.float32))\n",
    "Y = Y.view(Y.shape[0], 1)   \n",
    "\n",
    "n_samples, n_features = X.shape\n",
    "\n",
    "# model\n",
    "input_size = n_features\n",
    "output_size = 1\n",
    "model = nn.Linear(input_size, output_size)\n",
    "\n",
    "# loss and optimizer\n",
    "learning_rate = .01\n",
    "criterion = nn.MSELoss()\n",
    "optimizer = torch.optim.SGD(model.parameters(), lr=learning_rate)\n",
    "    \n",
    "# training loops\n",
    "num_epochs = 100\n",
    "for epoch in range(num_epochs):\n",
    "    \n",
    "    # forward pass and loss\n",
    "    yp = model(X)\n",
    "    loss = criterion(yp, Y)\n",
    "    \n",
    "    # backward pass\n",
    "    loss.backward()\n",
    "    \n",
    "    # update\n",
    "    optimizer.step()\n",
    "    \n",
    "    # empty gradients\n",
    "    optimizer.zero_grad()\n",
    "    \n",
    "    if (epoch+1)%10 == 0:\n",
    "        print(f'epoch: {epoch+1}, loss: {loss.item():.4f}')\n",
    "    \n",
    "# plot\n",
    "predicted = model(X).detach().numpy()\n",
    "plt.plot(X_numpy, Y_numpy, 'ro')\n",
    "plt.plot(X_numpy, predicted, 'b')\n",
    "plt.show()    "
   ]
  },
  {
   "cell_type": "markdown",
   "id": "de070368",
   "metadata": {},
   "source": [
    "Logistic Regression\n",
    "1. Design model (input, output size, forward pass)\n",
    "2. Construct loss and optimizer\n",
    "3. training loop\n",
    "    - forward pass: prediction and loss\n",
    "    - backward pass: gradients\n",
    "    - update weights "
   ]
  },
  {
   "cell_type": "code",
   "execution_count": 27,
   "id": "9701e4e9",
   "metadata": {},
   "outputs": [],
   "source": [
    "import torch\n",
    "import torch.nn as nn\n",
    "import numpy as np\n",
    "from sklearn import datasets\n",
    "from sklearn.preprocessing import StandardScaler\n",
    "from sklearn.model_selection import train_test_split"
   ]
  },
  {
   "cell_type": "code",
   "execution_count": 28,
   "id": "8f496a0d",
   "metadata": {
    "scrolled": true
   },
   "outputs": [
    {
     "name": "stdout",
     "output_type": "stream",
     "text": [
      "569 30\n",
      "epoch: 10, loss = 0.1784\n",
      "epoch: 20, loss = 0.1586\n",
      "epoch: 30, loss = 0.1434\n",
      "epoch: 40, loss = 0.1315\n",
      "epoch: 50, loss = 0.1219\n",
      "epoch: 60, loss = 0.1140\n",
      "epoch: 70, loss = 0.1075\n",
      "epoch: 80, loss = 0.1020\n",
      "epoch: 90, loss = 0.0972\n",
      "epoch: 100, loss = 0.0931\n",
      "accuracy = 0.8684\n"
     ]
    }
   ],
   "source": [
    "# prepare the data\n",
    "bc = datasets.load_breast_cancer()\n",
    "X, y = bc.data, bc.target\n",
    "n_samples, n_features = X.shape\n",
    "print(n_samples, n_features)\n",
    "\n",
    "X_train, X_test, y_train, y_test = train_test_split(X, y, test_size=0.20, random_state=1234)\n",
    "\n",
    "# scale\n",
    "sc = StandardScaler()\n",
    "X_train = sc.fit_transform(X_train)\n",
    "X_test = sc.transform(X_test)\n",
    "\n",
    "X_train = torch.from_numpy(X_train.astype(np.float32))\n",
    "X_test = torch.from_numpy(X_test.astype(np.float32))\n",
    "y_train = torch.from_numpy(y_train.astype(np.float32))\n",
    "y_test = torch.from_numpy(y_test.astype(np.float32))\n",
    "\n",
    "y_train = y_train.view(y_train.shape[0], 1)\n",
    "y_test = y_test.view(y_test.shape[0], 1)\n",
    "\n",
    "# model\n",
    "# f = wx + b, sigmoid at the end\n",
    "class LogisticRegression(nn.Module):\n",
    "    def __init__(self, n_input_features):\n",
    "        super(LogisticRegression, self).__init__()\n",
    "        self.linear = nn.Linear(n_input_features, 1)\n",
    "    def forward(self, x):\n",
    "        y_predicted = torch.sigmoid(self.linear(x))\n",
    "        return y_predicted\n",
    "\n",
    "model = LogisticRegression(n_features)\n",
    "\n",
    "# loss and optimizer\n",
    "learning_rate = 0.01\n",
    "criterian = nn.BCELoss()\n",
    "optimizer = torch.optim.SGD(model.parameters(), lr=learning_rate)\n",
    "# training\n",
    "num_epochs = 100\n",
    "for epoch in range(num_epochs):\n",
    "    \n",
    "    # forward pass and loss\n",
    "    y_predicted = model(X_train)\n",
    "    loss = criterion(y_predicted, y_train)\n",
    "    \n",
    "    # backward pass\n",
    "    loss.backward()\n",
    "    \n",
    "    # update\n",
    "    optimizer.step()\n",
    "    \n",
    "    # empty gradients\n",
    "    optimizer.zero_grad()\n",
    "    \n",
    "    if (epoch+1)%10 == 0:\n",
    "        print(f'epoch: {epoch+1}, loss = {loss.item():.4f}')\n",
    "\n",
    "# plot\n",
    "with torch.no_grad():\n",
    "    y_predicted = model(X_test)\n",
    "    y_predicted_cls = y_predicted.round()\n",
    "    acc = y_predicted_cls.eq(y_test).sum() / float(y_test.shape[0])\n",
    "    print(f'accuracy = {acc:.4f}')\n"
   ]
  },
  {
   "cell_type": "markdown",
   "id": "f196f99a",
   "metadata": {},
   "source": [
    "The breast cancer data is stored in a sklearn 'bunch'\n",
    "This is essentially a python dictionary"
   ]
  },
  {
   "cell_type": "code",
   "execution_count": 29,
   "id": "9ccc14cd",
   "metadata": {},
   "outputs": [
    {
     "name": "stdout",
     "output_type": "stream",
     "text": [
      "type:  <class 'sklearn.utils._bunch.Bunch'>\n"
     ]
    }
   ],
   "source": [
    "bc = datasets.load_breast_cancer()\n",
    "print('type: ', type(bc))"
   ]
  },
  {
   "cell_type": "markdown",
   "id": "47246ec8",
   "metadata": {},
   "source": [
    "We then get the following keys"
   ]
  },
  {
   "cell_type": "code",
   "execution_count": 30,
   "id": "3ced18e8",
   "metadata": {},
   "outputs": [
    {
     "name": "stdout",
     "output_type": "stream",
     "text": [
      "keys:  dict_keys(['data', 'target', 'frame', 'target_names', 'DESCR', 'feature_names', 'filename', 'data_module'])\n"
     ]
    }
   ],
   "source": [
    "print('keys: ', bc.keys())"
   ]
  },
  {
   "cell_type": "markdown",
   "id": "c48b8bd6",
   "metadata": {},
   "source": [
    "*data* is all the feature data (the attributes of the scan that help us identify if the tumor is malignant or benign, such as radius, area, etc.) in a NumPy array\n",
    "\n",
    "*target* is the target data (the variable you want to predict, in this case whether the tumor is malignant or benign) in a NumPy array\n",
    "\n",
    "data in this case, represent the features of our NN, that is, the variables of our model that we use to predict the target\n",
    "\n",
    "In our case, the target data is one column that classifies the tumor as either 0 indicating malignant, or 1 for benign"
   ]
  },
  {
   "cell_type": "markdown",
   "id": "4690597b",
   "metadata": {},
   "source": [
    "feature_names are the names of the features variables, in other words, names of the columns in data\n",
    "\n",
    "target_names is the names of the target variables, in other words names of the target columns\n",
    "\n",
    "DESCR, is a description of the dataset\n",
    "\n",
    "filename is the path to the actual file of the data in CSV format"
   ]
  },
  {
   "cell_type": "code",
   "execution_count": 31,
   "id": "ccc42c0c",
   "metadata": {
    "scrolled": false
   },
   "outputs": [
    {
     "name": "stdout",
     "output_type": "stream",
     "text": [
      "feature names:  ['mean radius' 'mean texture' 'mean perimeter' 'mean area'\n",
      " 'mean smoothness' 'mean compactness' 'mean concavity'\n",
      " 'mean concave points' 'mean symmetry' 'mean fractal dimension'\n",
      " 'radius error' 'texture error' 'perimeter error' 'area error'\n",
      " 'smoothness error' 'compactness error' 'concavity error'\n",
      " 'concave points error' 'symmetry error' 'fractal dimension error'\n",
      " 'worst radius' 'worst texture' 'worst perimeter' 'worst area'\n",
      " 'worst smoothness' 'worst compactness' 'worst concavity'\n",
      " 'worst concave points' 'worst symmetry' 'worst fractal dimension']\n",
      "target names:  ['malignant' 'benign']\n",
      "DESCR:  .. _breast_cancer_dataset:\n",
      "\n",
      "Breast cancer wisconsin (diagnostic) dataset\n",
      "--------------------------------------------\n",
      "\n",
      "**Data Set Characteristics:**\n",
      "\n",
      "    :Number of Instances: 569\n",
      "\n",
      "    :Number of Attributes: 30 numeric, predictive attributes and the class\n",
      "\n",
      "    :Attribute Information:\n",
      "        - radius (mean of distances from center to points on the perimeter)\n",
      "        - texture (standard deviation of gray-scale values)\n",
      "        - perimeter\n",
      "        - area\n",
      "        - smoothness (local variation in radius lengths)\n",
      "        - compactness (perimeter^2 / area - 1.0)\n",
      "        - concavity (severity of concave portions of the contour)\n",
      "        - concave points (number of concave portions of the contour)\n",
      "        - symmetry\n",
      "        - fractal dimension (\"coastline approximation\" - 1)\n",
      "\n",
      "        The mean, standard error, and \"worst\" or largest (mean of the three\n",
      "        worst/largest values) of these features were computed for each image,\n",
      "        resulting in 30 features.  For instance, field 0 is Mean Radius, field\n",
      "        10 is Radius SE, field 20 is Worst Radius.\n",
      "\n",
      "        - class:\n",
      "                - WDBC-Malignant\n",
      "                - WDBC-Benign\n",
      "\n",
      "    :Summary Statistics:\n",
      "\n",
      "    ===================================== ====== ======\n",
      "                                           Min    Max\n",
      "    ===================================== ====== ======\n",
      "    radius (mean):                        6.981  28.11\n",
      "    texture (mean):                       9.71   39.28\n",
      "    perimeter (mean):                     43.79  188.5\n",
      "    area (mean):                          143.5  2501.0\n",
      "    smoothness (mean):                    0.053  0.163\n",
      "    compactness (mean):                   0.019  0.345\n",
      "    concavity (mean):                     0.0    0.427\n",
      "    concave points (mean):                0.0    0.201\n",
      "    symmetry (mean):                      0.106  0.304\n",
      "    fractal dimension (mean):             0.05   0.097\n",
      "    radius (standard error):              0.112  2.873\n",
      "    texture (standard error):             0.36   4.885\n",
      "    perimeter (standard error):           0.757  21.98\n",
      "    area (standard error):                6.802  542.2\n",
      "    smoothness (standard error):          0.002  0.031\n",
      "    compactness (standard error):         0.002  0.135\n",
      "    concavity (standard error):           0.0    0.396\n",
      "    concave points (standard error):      0.0    0.053\n",
      "    symmetry (standard error):            0.008  0.079\n",
      "    fractal dimension (standard error):   0.001  0.03\n",
      "    radius (worst):                       7.93   36.04\n",
      "    texture (worst):                      12.02  49.54\n",
      "    perimeter (worst):                    50.41  251.2\n",
      "    area (worst):                         185.2  4254.0\n",
      "    smoothness (worst):                   0.071  0.223\n",
      "    compactness (worst):                  0.027  1.058\n",
      "    concavity (worst):                    0.0    1.252\n",
      "    concave points (worst):               0.0    0.291\n",
      "    symmetry (worst):                     0.156  0.664\n",
      "    fractal dimension (worst):            0.055  0.208\n",
      "    ===================================== ====== ======\n",
      "\n",
      "    :Missing Attribute Values: None\n",
      "\n",
      "    :Class Distribution: 212 - Malignant, 357 - Benign\n",
      "\n",
      "    :Creator:  Dr. William H. Wolberg, W. Nick Street, Olvi L. Mangasarian\n",
      "\n",
      "    :Donor: Nick Street\n",
      "\n",
      "    :Date: November, 1995\n",
      "\n",
      "This is a copy of UCI ML Breast Cancer Wisconsin (Diagnostic) datasets.\n",
      "https://goo.gl/U2Uwz2\n",
      "\n",
      "Features are computed from a digitized image of a fine needle\n",
      "aspirate (FNA) of a breast mass.  They describe\n",
      "characteristics of the cell nuclei present in the image.\n",
      "\n",
      "Separating plane described above was obtained using\n",
      "Multisurface Method-Tree (MSM-T) [K. P. Bennett, \"Decision Tree\n",
      "Construction Via Linear Programming.\" Proceedings of the 4th\n",
      "Midwest Artificial Intelligence and Cognitive Science Society,\n",
      "pp. 97-101, 1992], a classification method which uses linear\n",
      "programming to construct a decision tree.  Relevant features\n",
      "were selected using an exhaustive search in the space of 1-4\n",
      "features and 1-3 separating planes.\n",
      "\n",
      "The actual linear program used to obtain the separating plane\n",
      "in the 3-dimensional space is that described in:\n",
      "[K. P. Bennett and O. L. Mangasarian: \"Robust Linear\n",
      "Programming Discrimination of Two Linearly Inseparable Sets\",\n",
      "Optimization Methods and Software 1, 1992, 23-34].\n",
      "\n",
      "This database is also available through the UW CS ftp server:\n",
      "\n",
      "ftp ftp.cs.wisc.edu\n",
      "cd math-prog/cpo-dataset/machine-learn/WDBC/\n",
      "\n",
      ".. topic:: References\n",
      "\n",
      "   - W.N. Street, W.H. Wolberg and O.L. Mangasarian. Nuclear feature extraction \n",
      "     for breast tumor diagnosis. IS&T/SPIE 1993 International Symposium on \n",
      "     Electronic Imaging: Science and Technology, volume 1905, pages 861-870,\n",
      "     San Jose, CA, 1993.\n",
      "   - O.L. Mangasarian, W.N. Street and W.H. Wolberg. Breast cancer diagnosis and \n",
      "     prognosis via linear programming. Operations Research, 43(4), pages 570-577, \n",
      "     July-August 1995.\n",
      "   - W.H. Wolberg, W.N. Street, and O.L. Mangasarian. Machine learning techniques\n",
      "     to diagnose breast cancer from fine-needle aspirates. Cancer Letters 77 (1994) \n",
      "     163-171.\n",
      "filename:  breast_cancer.csv\n"
     ]
    }
   ],
   "source": [
    "print('feature names: ', bc.feature_names)\n",
    "print('target names: ', bc.target_names)\n",
    "print('DESCR: ', bc.DESCR)\n",
    "print('filename: ', bc.filename)"
   ]
  },
  {
   "cell_type": "markdown",
   "id": "2e1a4d4c",
   "metadata": {},
   "source": [
    "now as a pandas dataframe"
   ]
  },
  {
   "cell_type": "code",
   "execution_count": 32,
   "id": "2764db84",
   "metadata": {},
   "outputs": [
    {
     "data": {
      "text/html": [
       "<div>\n",
       "<style scoped>\n",
       "    .dataframe tbody tr th:only-of-type {\n",
       "        vertical-align: middle;\n",
       "    }\n",
       "\n",
       "    .dataframe tbody tr th {\n",
       "        vertical-align: top;\n",
       "    }\n",
       "\n",
       "    .dataframe thead th {\n",
       "        text-align: right;\n",
       "    }\n",
       "</style>\n",
       "<table border=\"1\" class=\"dataframe\">\n",
       "  <thead>\n",
       "    <tr style=\"text-align: right;\">\n",
       "      <th></th>\n",
       "      <th>mean radius</th>\n",
       "      <th>mean texture</th>\n",
       "      <th>mean perimeter</th>\n",
       "      <th>mean area</th>\n",
       "      <th>mean smoothness</th>\n",
       "      <th>mean compactness</th>\n",
       "      <th>mean concavity</th>\n",
       "      <th>mean concave points</th>\n",
       "      <th>mean symmetry</th>\n",
       "      <th>mean fractal dimension</th>\n",
       "      <th>...</th>\n",
       "      <th>worst texture</th>\n",
       "      <th>worst perimeter</th>\n",
       "      <th>worst area</th>\n",
       "      <th>worst smoothness</th>\n",
       "      <th>worst compactness</th>\n",
       "      <th>worst concavity</th>\n",
       "      <th>worst concave points</th>\n",
       "      <th>worst symmetry</th>\n",
       "      <th>worst fractal dimension</th>\n",
       "      <th>target</th>\n",
       "    </tr>\n",
       "  </thead>\n",
       "  <tbody>\n",
       "    <tr>\n",
       "      <th>0</th>\n",
       "      <td>17.99</td>\n",
       "      <td>10.38</td>\n",
       "      <td>122.80</td>\n",
       "      <td>1001.0</td>\n",
       "      <td>0.11840</td>\n",
       "      <td>0.27760</td>\n",
       "      <td>0.30010</td>\n",
       "      <td>0.14710</td>\n",
       "      <td>0.2419</td>\n",
       "      <td>0.07871</td>\n",
       "      <td>...</td>\n",
       "      <td>17.33</td>\n",
       "      <td>184.60</td>\n",
       "      <td>2019.0</td>\n",
       "      <td>0.1622</td>\n",
       "      <td>0.6656</td>\n",
       "      <td>0.7119</td>\n",
       "      <td>0.26540</td>\n",
       "      <td>0.4601</td>\n",
       "      <td>0.11890</td>\n",
       "      <td>0</td>\n",
       "    </tr>\n",
       "    <tr>\n",
       "      <th>1</th>\n",
       "      <td>20.57</td>\n",
       "      <td>17.77</td>\n",
       "      <td>132.90</td>\n",
       "      <td>1326.0</td>\n",
       "      <td>0.08474</td>\n",
       "      <td>0.07864</td>\n",
       "      <td>0.08690</td>\n",
       "      <td>0.07017</td>\n",
       "      <td>0.1812</td>\n",
       "      <td>0.05667</td>\n",
       "      <td>...</td>\n",
       "      <td>23.41</td>\n",
       "      <td>158.80</td>\n",
       "      <td>1956.0</td>\n",
       "      <td>0.1238</td>\n",
       "      <td>0.1866</td>\n",
       "      <td>0.2416</td>\n",
       "      <td>0.18600</td>\n",
       "      <td>0.2750</td>\n",
       "      <td>0.08902</td>\n",
       "      <td>0</td>\n",
       "    </tr>\n",
       "    <tr>\n",
       "      <th>2</th>\n",
       "      <td>19.69</td>\n",
       "      <td>21.25</td>\n",
       "      <td>130.00</td>\n",
       "      <td>1203.0</td>\n",
       "      <td>0.10960</td>\n",
       "      <td>0.15990</td>\n",
       "      <td>0.19740</td>\n",
       "      <td>0.12790</td>\n",
       "      <td>0.2069</td>\n",
       "      <td>0.05999</td>\n",
       "      <td>...</td>\n",
       "      <td>25.53</td>\n",
       "      <td>152.50</td>\n",
       "      <td>1709.0</td>\n",
       "      <td>0.1444</td>\n",
       "      <td>0.4245</td>\n",
       "      <td>0.4504</td>\n",
       "      <td>0.24300</td>\n",
       "      <td>0.3613</td>\n",
       "      <td>0.08758</td>\n",
       "      <td>0</td>\n",
       "    </tr>\n",
       "    <tr>\n",
       "      <th>3</th>\n",
       "      <td>11.42</td>\n",
       "      <td>20.38</td>\n",
       "      <td>77.58</td>\n",
       "      <td>386.1</td>\n",
       "      <td>0.14250</td>\n",
       "      <td>0.28390</td>\n",
       "      <td>0.24140</td>\n",
       "      <td>0.10520</td>\n",
       "      <td>0.2597</td>\n",
       "      <td>0.09744</td>\n",
       "      <td>...</td>\n",
       "      <td>26.50</td>\n",
       "      <td>98.87</td>\n",
       "      <td>567.7</td>\n",
       "      <td>0.2098</td>\n",
       "      <td>0.8663</td>\n",
       "      <td>0.6869</td>\n",
       "      <td>0.25750</td>\n",
       "      <td>0.6638</td>\n",
       "      <td>0.17300</td>\n",
       "      <td>0</td>\n",
       "    </tr>\n",
       "    <tr>\n",
       "      <th>4</th>\n",
       "      <td>20.29</td>\n",
       "      <td>14.34</td>\n",
       "      <td>135.10</td>\n",
       "      <td>1297.0</td>\n",
       "      <td>0.10030</td>\n",
       "      <td>0.13280</td>\n",
       "      <td>0.19800</td>\n",
       "      <td>0.10430</td>\n",
       "      <td>0.1809</td>\n",
       "      <td>0.05883</td>\n",
       "      <td>...</td>\n",
       "      <td>16.67</td>\n",
       "      <td>152.20</td>\n",
       "      <td>1575.0</td>\n",
       "      <td>0.1374</td>\n",
       "      <td>0.2050</td>\n",
       "      <td>0.4000</td>\n",
       "      <td>0.16250</td>\n",
       "      <td>0.2364</td>\n",
       "      <td>0.07678</td>\n",
       "      <td>0</td>\n",
       "    </tr>\n",
       "    <tr>\n",
       "      <th>5</th>\n",
       "      <td>12.45</td>\n",
       "      <td>15.70</td>\n",
       "      <td>82.57</td>\n",
       "      <td>477.1</td>\n",
       "      <td>0.12780</td>\n",
       "      <td>0.17000</td>\n",
       "      <td>0.15780</td>\n",
       "      <td>0.08089</td>\n",
       "      <td>0.2087</td>\n",
       "      <td>0.07613</td>\n",
       "      <td>...</td>\n",
       "      <td>23.75</td>\n",
       "      <td>103.40</td>\n",
       "      <td>741.6</td>\n",
       "      <td>0.1791</td>\n",
       "      <td>0.5249</td>\n",
       "      <td>0.5355</td>\n",
       "      <td>0.17410</td>\n",
       "      <td>0.3985</td>\n",
       "      <td>0.12440</td>\n",
       "      <td>0</td>\n",
       "    </tr>\n",
       "    <tr>\n",
       "      <th>6</th>\n",
       "      <td>18.25</td>\n",
       "      <td>19.98</td>\n",
       "      <td>119.60</td>\n",
       "      <td>1040.0</td>\n",
       "      <td>0.09463</td>\n",
       "      <td>0.10900</td>\n",
       "      <td>0.11270</td>\n",
       "      <td>0.07400</td>\n",
       "      <td>0.1794</td>\n",
       "      <td>0.05742</td>\n",
       "      <td>...</td>\n",
       "      <td>27.66</td>\n",
       "      <td>153.20</td>\n",
       "      <td>1606.0</td>\n",
       "      <td>0.1442</td>\n",
       "      <td>0.2576</td>\n",
       "      <td>0.3784</td>\n",
       "      <td>0.19320</td>\n",
       "      <td>0.3063</td>\n",
       "      <td>0.08368</td>\n",
       "      <td>0</td>\n",
       "    </tr>\n",
       "    <tr>\n",
       "      <th>7</th>\n",
       "      <td>13.71</td>\n",
       "      <td>20.83</td>\n",
       "      <td>90.20</td>\n",
       "      <td>577.9</td>\n",
       "      <td>0.11890</td>\n",
       "      <td>0.16450</td>\n",
       "      <td>0.09366</td>\n",
       "      <td>0.05985</td>\n",
       "      <td>0.2196</td>\n",
       "      <td>0.07451</td>\n",
       "      <td>...</td>\n",
       "      <td>28.14</td>\n",
       "      <td>110.60</td>\n",
       "      <td>897.0</td>\n",
       "      <td>0.1654</td>\n",
       "      <td>0.3682</td>\n",
       "      <td>0.2678</td>\n",
       "      <td>0.15560</td>\n",
       "      <td>0.3196</td>\n",
       "      <td>0.11510</td>\n",
       "      <td>0</td>\n",
       "    </tr>\n",
       "    <tr>\n",
       "      <th>8</th>\n",
       "      <td>13.00</td>\n",
       "      <td>21.82</td>\n",
       "      <td>87.50</td>\n",
       "      <td>519.8</td>\n",
       "      <td>0.12730</td>\n",
       "      <td>0.19320</td>\n",
       "      <td>0.18590</td>\n",
       "      <td>0.09353</td>\n",
       "      <td>0.2350</td>\n",
       "      <td>0.07389</td>\n",
       "      <td>...</td>\n",
       "      <td>30.73</td>\n",
       "      <td>106.20</td>\n",
       "      <td>739.3</td>\n",
       "      <td>0.1703</td>\n",
       "      <td>0.5401</td>\n",
       "      <td>0.5390</td>\n",
       "      <td>0.20600</td>\n",
       "      <td>0.4378</td>\n",
       "      <td>0.10720</td>\n",
       "      <td>0</td>\n",
       "    </tr>\n",
       "    <tr>\n",
       "      <th>9</th>\n",
       "      <td>12.46</td>\n",
       "      <td>24.04</td>\n",
       "      <td>83.97</td>\n",
       "      <td>475.9</td>\n",
       "      <td>0.11860</td>\n",
       "      <td>0.23960</td>\n",
       "      <td>0.22730</td>\n",
       "      <td>0.08543</td>\n",
       "      <td>0.2030</td>\n",
       "      <td>0.08243</td>\n",
       "      <td>...</td>\n",
       "      <td>40.68</td>\n",
       "      <td>97.65</td>\n",
       "      <td>711.4</td>\n",
       "      <td>0.1853</td>\n",
       "      <td>1.0580</td>\n",
       "      <td>1.1050</td>\n",
       "      <td>0.22100</td>\n",
       "      <td>0.4366</td>\n",
       "      <td>0.20750</td>\n",
       "      <td>0</td>\n",
       "    </tr>\n",
       "    <tr>\n",
       "      <th>10</th>\n",
       "      <td>16.02</td>\n",
       "      <td>23.24</td>\n",
       "      <td>102.70</td>\n",
       "      <td>797.8</td>\n",
       "      <td>0.08206</td>\n",
       "      <td>0.06669</td>\n",
       "      <td>0.03299</td>\n",
       "      <td>0.03323</td>\n",
       "      <td>0.1528</td>\n",
       "      <td>0.05697</td>\n",
       "      <td>...</td>\n",
       "      <td>33.88</td>\n",
       "      <td>123.80</td>\n",
       "      <td>1150.0</td>\n",
       "      <td>0.1181</td>\n",
       "      <td>0.1551</td>\n",
       "      <td>0.1459</td>\n",
       "      <td>0.09975</td>\n",
       "      <td>0.2948</td>\n",
       "      <td>0.08452</td>\n",
       "      <td>0</td>\n",
       "    </tr>\n",
       "    <tr>\n",
       "      <th>11</th>\n",
       "      <td>15.78</td>\n",
       "      <td>17.89</td>\n",
       "      <td>103.60</td>\n",
       "      <td>781.0</td>\n",
       "      <td>0.09710</td>\n",
       "      <td>0.12920</td>\n",
       "      <td>0.09954</td>\n",
       "      <td>0.06606</td>\n",
       "      <td>0.1842</td>\n",
       "      <td>0.06082</td>\n",
       "      <td>...</td>\n",
       "      <td>27.28</td>\n",
       "      <td>136.50</td>\n",
       "      <td>1299.0</td>\n",
       "      <td>0.1396</td>\n",
       "      <td>0.5609</td>\n",
       "      <td>0.3965</td>\n",
       "      <td>0.18100</td>\n",
       "      <td>0.3792</td>\n",
       "      <td>0.10480</td>\n",
       "      <td>0</td>\n",
       "    </tr>\n",
       "    <tr>\n",
       "      <th>12</th>\n",
       "      <td>19.17</td>\n",
       "      <td>24.80</td>\n",
       "      <td>132.40</td>\n",
       "      <td>1123.0</td>\n",
       "      <td>0.09740</td>\n",
       "      <td>0.24580</td>\n",
       "      <td>0.20650</td>\n",
       "      <td>0.11180</td>\n",
       "      <td>0.2397</td>\n",
       "      <td>0.07800</td>\n",
       "      <td>...</td>\n",
       "      <td>29.94</td>\n",
       "      <td>151.70</td>\n",
       "      <td>1332.0</td>\n",
       "      <td>0.1037</td>\n",
       "      <td>0.3903</td>\n",
       "      <td>0.3639</td>\n",
       "      <td>0.17670</td>\n",
       "      <td>0.3176</td>\n",
       "      <td>0.10230</td>\n",
       "      <td>0</td>\n",
       "    </tr>\n",
       "    <tr>\n",
       "      <th>13</th>\n",
       "      <td>15.85</td>\n",
       "      <td>23.95</td>\n",
       "      <td>103.70</td>\n",
       "      <td>782.7</td>\n",
       "      <td>0.08401</td>\n",
       "      <td>0.10020</td>\n",
       "      <td>0.09938</td>\n",
       "      <td>0.05364</td>\n",
       "      <td>0.1847</td>\n",
       "      <td>0.05338</td>\n",
       "      <td>...</td>\n",
       "      <td>27.66</td>\n",
       "      <td>112.00</td>\n",
       "      <td>876.5</td>\n",
       "      <td>0.1131</td>\n",
       "      <td>0.1924</td>\n",
       "      <td>0.2322</td>\n",
       "      <td>0.11190</td>\n",
       "      <td>0.2809</td>\n",
       "      <td>0.06287</td>\n",
       "      <td>0</td>\n",
       "    </tr>\n",
       "    <tr>\n",
       "      <th>14</th>\n",
       "      <td>13.73</td>\n",
       "      <td>22.61</td>\n",
       "      <td>93.60</td>\n",
       "      <td>578.3</td>\n",
       "      <td>0.11310</td>\n",
       "      <td>0.22930</td>\n",
       "      <td>0.21280</td>\n",
       "      <td>0.08025</td>\n",
       "      <td>0.2069</td>\n",
       "      <td>0.07682</td>\n",
       "      <td>...</td>\n",
       "      <td>32.01</td>\n",
       "      <td>108.80</td>\n",
       "      <td>697.7</td>\n",
       "      <td>0.1651</td>\n",
       "      <td>0.7725</td>\n",
       "      <td>0.6943</td>\n",
       "      <td>0.22080</td>\n",
       "      <td>0.3596</td>\n",
       "      <td>0.14310</td>\n",
       "      <td>0</td>\n",
       "    </tr>\n",
       "  </tbody>\n",
       "</table>\n",
       "<p>15 rows × 31 columns</p>\n",
       "</div>"
      ],
      "text/plain": [
       "    mean radius  mean texture  mean perimeter  mean area  mean smoothness  \\\n",
       "0         17.99         10.38          122.80     1001.0          0.11840   \n",
       "1         20.57         17.77          132.90     1326.0          0.08474   \n",
       "2         19.69         21.25          130.00     1203.0          0.10960   \n",
       "3         11.42         20.38           77.58      386.1          0.14250   \n",
       "4         20.29         14.34          135.10     1297.0          0.10030   \n",
       "5         12.45         15.70           82.57      477.1          0.12780   \n",
       "6         18.25         19.98          119.60     1040.0          0.09463   \n",
       "7         13.71         20.83           90.20      577.9          0.11890   \n",
       "8         13.00         21.82           87.50      519.8          0.12730   \n",
       "9         12.46         24.04           83.97      475.9          0.11860   \n",
       "10        16.02         23.24          102.70      797.8          0.08206   \n",
       "11        15.78         17.89          103.60      781.0          0.09710   \n",
       "12        19.17         24.80          132.40     1123.0          0.09740   \n",
       "13        15.85         23.95          103.70      782.7          0.08401   \n",
       "14        13.73         22.61           93.60      578.3          0.11310   \n",
       "\n",
       "    mean compactness  mean concavity  mean concave points  mean symmetry  \\\n",
       "0            0.27760         0.30010              0.14710         0.2419   \n",
       "1            0.07864         0.08690              0.07017         0.1812   \n",
       "2            0.15990         0.19740              0.12790         0.2069   \n",
       "3            0.28390         0.24140              0.10520         0.2597   \n",
       "4            0.13280         0.19800              0.10430         0.1809   \n",
       "5            0.17000         0.15780              0.08089         0.2087   \n",
       "6            0.10900         0.11270              0.07400         0.1794   \n",
       "7            0.16450         0.09366              0.05985         0.2196   \n",
       "8            0.19320         0.18590              0.09353         0.2350   \n",
       "9            0.23960         0.22730              0.08543         0.2030   \n",
       "10           0.06669         0.03299              0.03323         0.1528   \n",
       "11           0.12920         0.09954              0.06606         0.1842   \n",
       "12           0.24580         0.20650              0.11180         0.2397   \n",
       "13           0.10020         0.09938              0.05364         0.1847   \n",
       "14           0.22930         0.21280              0.08025         0.2069   \n",
       "\n",
       "    mean fractal dimension  ...  worst texture  worst perimeter  worst area  \\\n",
       "0                  0.07871  ...          17.33           184.60      2019.0   \n",
       "1                  0.05667  ...          23.41           158.80      1956.0   \n",
       "2                  0.05999  ...          25.53           152.50      1709.0   \n",
       "3                  0.09744  ...          26.50            98.87       567.7   \n",
       "4                  0.05883  ...          16.67           152.20      1575.0   \n",
       "5                  0.07613  ...          23.75           103.40       741.6   \n",
       "6                  0.05742  ...          27.66           153.20      1606.0   \n",
       "7                  0.07451  ...          28.14           110.60       897.0   \n",
       "8                  0.07389  ...          30.73           106.20       739.3   \n",
       "9                  0.08243  ...          40.68            97.65       711.4   \n",
       "10                 0.05697  ...          33.88           123.80      1150.0   \n",
       "11                 0.06082  ...          27.28           136.50      1299.0   \n",
       "12                 0.07800  ...          29.94           151.70      1332.0   \n",
       "13                 0.05338  ...          27.66           112.00       876.5   \n",
       "14                 0.07682  ...          32.01           108.80       697.7   \n",
       "\n",
       "    worst smoothness  worst compactness  worst concavity  \\\n",
       "0             0.1622             0.6656           0.7119   \n",
       "1             0.1238             0.1866           0.2416   \n",
       "2             0.1444             0.4245           0.4504   \n",
       "3             0.2098             0.8663           0.6869   \n",
       "4             0.1374             0.2050           0.4000   \n",
       "5             0.1791             0.5249           0.5355   \n",
       "6             0.1442             0.2576           0.3784   \n",
       "7             0.1654             0.3682           0.2678   \n",
       "8             0.1703             0.5401           0.5390   \n",
       "9             0.1853             1.0580           1.1050   \n",
       "10            0.1181             0.1551           0.1459   \n",
       "11            0.1396             0.5609           0.3965   \n",
       "12            0.1037             0.3903           0.3639   \n",
       "13            0.1131             0.1924           0.2322   \n",
       "14            0.1651             0.7725           0.6943   \n",
       "\n",
       "    worst concave points  worst symmetry  worst fractal dimension  target  \n",
       "0                0.26540          0.4601                  0.11890       0  \n",
       "1                0.18600          0.2750                  0.08902       0  \n",
       "2                0.24300          0.3613                  0.08758       0  \n",
       "3                0.25750          0.6638                  0.17300       0  \n",
       "4                0.16250          0.2364                  0.07678       0  \n",
       "5                0.17410          0.3985                  0.12440       0  \n",
       "6                0.19320          0.3063                  0.08368       0  \n",
       "7                0.15560          0.3196                  0.11510       0  \n",
       "8                0.20600          0.4378                  0.10720       0  \n",
       "9                0.22100          0.4366                  0.20750       0  \n",
       "10               0.09975          0.2948                  0.08452       0  \n",
       "11               0.18100          0.3792                  0.10480       0  \n",
       "12               0.17670          0.3176                  0.10230       0  \n",
       "13               0.11190          0.2809                  0.06287       0  \n",
       "14               0.22080          0.3596                  0.14310       0  \n",
       "\n",
       "[15 rows x 31 columns]"
      ]
     },
     "execution_count": 32,
     "metadata": {},
     "output_type": "execute_result"
    }
   ],
   "source": [
    "# import pandas\n",
    "import pandas as pd\n",
    "\n",
    "# read the df, first using the feature data\n",
    "df = pd.DataFrame(bc.data, columns=bc.feature_names)\n",
    "\n",
    "# add a target column, and fill it with the target data\n",
    "df['target'] = bc.target\n",
    "\n",
    "# show the first five rows\n",
    "df.head(15)"
   ]
  },
  {
   "cell_type": "code",
   "execution_count": 33,
   "id": "ebc9d713",
   "metadata": {},
   "outputs": [
    {
     "name": "stdout",
     "output_type": "stream",
     "text": [
      "<class 'pandas.core.frame.DataFrame'>\n",
      "RangeIndex: 569 entries, 0 to 568\n",
      "Data columns (total 31 columns):\n",
      " #   Column                   Non-Null Count  Dtype  \n",
      "---  ------                   --------------  -----  \n",
      " 0   mean radius              569 non-null    float64\n",
      " 1   mean texture             569 non-null    float64\n",
      " 2   mean perimeter           569 non-null    float64\n",
      " 3   mean area                569 non-null    float64\n",
      " 4   mean smoothness          569 non-null    float64\n",
      " 5   mean compactness         569 non-null    float64\n",
      " 6   mean concavity           569 non-null    float64\n",
      " 7   mean concave points      569 non-null    float64\n",
      " 8   mean symmetry            569 non-null    float64\n",
      " 9   mean fractal dimension   569 non-null    float64\n",
      " 10  radius error             569 non-null    float64\n",
      " 11  texture error            569 non-null    float64\n",
      " 12  perimeter error          569 non-null    float64\n",
      " 13  area error               569 non-null    float64\n",
      " 14  smoothness error         569 non-null    float64\n",
      " 15  compactness error        569 non-null    float64\n",
      " 16  concavity error          569 non-null    float64\n",
      " 17  concave points error     569 non-null    float64\n",
      " 18  symmetry error           569 non-null    float64\n",
      " 19  fractal dimension error  569 non-null    float64\n",
      " 20  worst radius             569 non-null    float64\n",
      " 21  worst texture            569 non-null    float64\n",
      " 22  worst perimeter          569 non-null    float64\n",
      " 23  worst area               569 non-null    float64\n",
      " 24  worst smoothness         569 non-null    float64\n",
      " 25  worst compactness        569 non-null    float64\n",
      " 26  worst concavity          569 non-null    float64\n",
      " 27  worst concave points     569 non-null    float64\n",
      " 28  worst symmetry           569 non-null    float64\n",
      " 29  worst fractal dimension  569 non-null    float64\n",
      " 30  target                   569 non-null    int64  \n",
      "dtypes: float64(30), int64(1)\n",
      "memory usage: 137.9 KB\n"
     ]
    }
   ],
   "source": [
    "df.info()"
   ]
  },
  {
   "cell_type": "markdown",
   "id": "1c31f9a7",
   "metadata": {},
   "source": [
    "lets do some ML"
   ]
  },
  {
   "cell_type": "code",
   "execution_count": 34,
   "id": "b681a649",
   "metadata": {},
   "outputs": [],
   "source": [
    "# store the feature data\n",
    "X = bc.data\n",
    "\n",
    "# store the target data\n",
    "y = bc.target\n",
    "\n",
    "# split the data using sklearn train_test_split\n",
    "\n",
    "from sklearn.model_selection import train_test_split\n",
    "X_train, X_test, y_train, y_test = train_test_split(X, y)"
   ]
  },
  {
   "cell_type": "markdown",
   "id": "409db1b6",
   "metadata": {},
   "source": [
    "This gives us two datasets - one for training and one for testing."
   ]
  },
  {
   "cell_type": "code",
   "execution_count": 35,
   "id": "8638b303",
   "metadata": {},
   "outputs": [
    {
     "name": "stdout",
     "output_type": "stream",
     "text": [
      "569 30\n",
      "epoch: 10, loss = 0.3199\n",
      "epoch: 20, loss = 0.2655\n",
      "epoch: 30, loss = 0.2249\n",
      "epoch: 40, loss = 0.1955\n",
      "epoch: 50, loss = 0.1739\n",
      "epoch: 60, loss = 0.1574\n",
      "epoch: 70, loss = 0.1445\n",
      "epoch: 80, loss = 0.1341\n",
      "epoch: 90, loss = 0.1256\n",
      "epoch: 100, loss = 0.1185\n",
      "accuracy = 0.8421\n"
     ]
    }
   ],
   "source": [
    "# prepare the data\n",
    "\n",
    "# shape attribute returns dimensions of m x n matrix in a tuple (m, n). m being the sample, and n being features\n",
    "n_samples, n_features = X.shape\n",
    "print(n_samples, n_features)\n",
    "\n",
    "X_train, X_test, y_train, y_test = train_test_split(X, y, test_size=0.20, random_state=1234)\n",
    "\n",
    "# scale , this makes it easier for the model to learn and understand the problem\n",
    "sc = StandardScaler()\n",
    "X_train = sc.fit_transform(X_train)\n",
    "X_test = sc.transform(X_test)\n",
    "\n",
    "X_train = torch.from_numpy(X_train.astype(np.float32))\n",
    "X_test = torch.from_numpy(X_test.astype(np.float32))\n",
    "y_train = torch.from_numpy(y_train.astype(np.float32))\n",
    "y_test = torch.from_numpy(y_test.astype(np.float32))\n",
    "\n",
    "y_train = y_train.view(y_train.shape[0], 1)\n",
    "y_test = y_test.view(y_test.shape[0], 1)\n",
    "\n",
    "# model\n",
    "# f = wx + b, sigmoid at the end\n",
    "class LogisticRegression(nn.Module):\n",
    "    def __init__(self, n_input_features):\n",
    "        super(LogisticRegression, self).__init__()\n",
    "        self.linear = nn.Linear(n_input_features, 1)\n",
    "    def forward(self, x):\n",
    "        y_predicted = torch.sigmoid(self.linear(x))\n",
    "        return y_predicted\n",
    "\n",
    "model = LogisticRegression(n_features)\n",
    "\n",
    "# loss and optimizer\n",
    "learning_rate = 0.01\n",
    "criterian = nn.BCELoss()\n",
    "optimizer = torch.optim.SGD(model.parameters(), lr=learning_rate)\n",
    "# training\n",
    "num_epochs = 100\n",
    "for epoch in range(num_epochs):\n",
    "    \n",
    "    # forward pass and loss\n",
    "    y_predicted = model(X_train)\n",
    "    loss = criterion(y_predicted, y_train)\n",
    "    \n",
    "    # backward pass\n",
    "    loss.backward()\n",
    "    \n",
    "    # update\n",
    "    optimizer.step()\n",
    "    \n",
    "    # empty gradients\n",
    "    optimizer.zero_grad()\n",
    "    \n",
    "    if (epoch+1)%10 == 0:\n",
    "        print(f'epoch: {epoch+1}, loss = {loss.item():.4f}')\n",
    "\n",
    "# plot\n",
    "with torch.no_grad():\n",
    "    y_predicted = model(X_test)\n",
    "    y_predicted_cls = y_predicted.round()\n",
    "    acc = y_predicted_cls.eq(y_test).sum() / float(y_test.shape[0])\n",
    "    print(f'accuracy = {acc:.4f}')\n"
   ]
  },
  {
   "cell_type": "markdown",
   "id": "64f51886",
   "metadata": {},
   "source": [
    "One Hot encoding categorical data\n",
    "This is good when there is no relationship between \n",
    "\n",
    "It involves representing each categorical variable with a binary vector that has one element for each unique label and marking the class label with a 1 and all other elements with 0\n",
    "\n"
   ]
  },
  {
   "cell_type": "code",
   "execution_count": 36,
   "id": "72ade36d",
   "metadata": {},
   "outputs": [
    {
     "data": {
      "text/html": [
       "<style>#sk-container-id-1 {color: black;background-color: white;}#sk-container-id-1 pre{padding: 0;}#sk-container-id-1 div.sk-toggleable {background-color: white;}#sk-container-id-1 label.sk-toggleable__label {cursor: pointer;display: block;width: 100%;margin-bottom: 0;padding: 0.3em;box-sizing: border-box;text-align: center;}#sk-container-id-1 label.sk-toggleable__label-arrow:before {content: \"▸\";float: left;margin-right: 0.25em;color: #696969;}#sk-container-id-1 label.sk-toggleable__label-arrow:hover:before {color: black;}#sk-container-id-1 div.sk-estimator:hover label.sk-toggleable__label-arrow:before {color: black;}#sk-container-id-1 div.sk-toggleable__content {max-height: 0;max-width: 0;overflow: hidden;text-align: left;background-color: #f0f8ff;}#sk-container-id-1 div.sk-toggleable__content pre {margin: 0.2em;color: black;border-radius: 0.25em;background-color: #f0f8ff;}#sk-container-id-1 input.sk-toggleable__control:checked~div.sk-toggleable__content {max-height: 200px;max-width: 100%;overflow: auto;}#sk-container-id-1 input.sk-toggleable__control:checked~label.sk-toggleable__label-arrow:before {content: \"▾\";}#sk-container-id-1 div.sk-estimator input.sk-toggleable__control:checked~label.sk-toggleable__label {background-color: #d4ebff;}#sk-container-id-1 div.sk-label input.sk-toggleable__control:checked~label.sk-toggleable__label {background-color: #d4ebff;}#sk-container-id-1 input.sk-hidden--visually {border: 0;clip: rect(1px 1px 1px 1px);clip: rect(1px, 1px, 1px, 1px);height: 1px;margin: -1px;overflow: hidden;padding: 0;position: absolute;width: 1px;}#sk-container-id-1 div.sk-estimator {font-family: monospace;background-color: #f0f8ff;border: 1px dotted black;border-radius: 0.25em;box-sizing: border-box;margin-bottom: 0.5em;}#sk-container-id-1 div.sk-estimator:hover {background-color: #d4ebff;}#sk-container-id-1 div.sk-parallel-item::after {content: \"\";width: 100%;border-bottom: 1px solid gray;flex-grow: 1;}#sk-container-id-1 div.sk-label:hover label.sk-toggleable__label {background-color: #d4ebff;}#sk-container-id-1 div.sk-serial::before {content: \"\";position: absolute;border-left: 1px solid gray;box-sizing: border-box;top: 0;bottom: 0;left: 50%;z-index: 0;}#sk-container-id-1 div.sk-serial {display: flex;flex-direction: column;align-items: center;background-color: white;padding-right: 0.2em;padding-left: 0.2em;position: relative;}#sk-container-id-1 div.sk-item {position: relative;z-index: 1;}#sk-container-id-1 div.sk-parallel {display: flex;align-items: stretch;justify-content: center;background-color: white;position: relative;}#sk-container-id-1 div.sk-item::before, #sk-container-id-1 div.sk-parallel-item::before {content: \"\";position: absolute;border-left: 1px solid gray;box-sizing: border-box;top: 0;bottom: 0;left: 50%;z-index: -1;}#sk-container-id-1 div.sk-parallel-item {display: flex;flex-direction: column;z-index: 1;position: relative;background-color: white;}#sk-container-id-1 div.sk-parallel-item:first-child::after {align-self: flex-end;width: 50%;}#sk-container-id-1 div.sk-parallel-item:last-child::after {align-self: flex-start;width: 50%;}#sk-container-id-1 div.sk-parallel-item:only-child::after {width: 0;}#sk-container-id-1 div.sk-dashed-wrapped {border: 1px dashed gray;margin: 0 0.4em 0.5em 0.4em;box-sizing: border-box;padding-bottom: 0.4em;background-color: white;}#sk-container-id-1 div.sk-label label {font-family: monospace;font-weight: bold;display: inline-block;line-height: 1.2em;}#sk-container-id-1 div.sk-label-container {text-align: center;}#sk-container-id-1 div.sk-container {/* jupyter's `normalize.less` sets `[hidden] { display: none; }` but bootstrap.min.css set `[hidden] { display: none !important; }` so we also need the `!important` here to be able to override the default hidden behavior on the sphinx rendered scikit-learn.org. See: https://github.com/scikit-learn/scikit-learn/issues/21755 */display: inline-block !important;position: relative;}#sk-container-id-1 div.sk-text-repr-fallback {display: none;}</style><div id=\"sk-container-id-1\" class=\"sk-top-container\"><div class=\"sk-text-repr-fallback\"><pre>OneHotEncoder()</pre><b>In a Jupyter environment, please rerun this cell to show the HTML representation or trust the notebook. <br />On GitHub, the HTML representation is unable to render, please try loading this page with nbviewer.org.</b></div><div class=\"sk-container\" hidden><div class=\"sk-item\"><div class=\"sk-estimator sk-toggleable\"><input class=\"sk-toggleable__control sk-hidden--visually\" id=\"sk-estimator-id-1\" type=\"checkbox\" checked><label for=\"sk-estimator-id-1\" class=\"sk-toggleable__label sk-toggleable__label-arrow\">OneHotEncoder</label><div class=\"sk-toggleable__content\"><pre>OneHotEncoder()</pre></div></div></div></div></div>"
      ],
      "text/plain": [
       "OneHotEncoder()"
      ]
     },
     "execution_count": 36,
     "metadata": {},
     "output_type": "execute_result"
    }
   ],
   "source": [
    "from sklearn.preprocessing import OneHotEncoder\n",
    "from seaborn import load_dataset\n",
    "\n",
    "OneHotEncoder(\n",
    "    categories='auto', # categories per feature\n",
    "    drop=None, # whether to drop one of the features\n",
    "    sparse=True, # will return sparse matrix is set true\n",
    "    dtype= np.float64, # desired data type of the output\n",
    "    handle_unknown='error' # whether to raise an error\n",
    "    \n",
    ")"
   ]
  },
  {
   "cell_type": "code",
   "execution_count": 37,
   "id": "4b3dcc42",
   "metadata": {},
   "outputs": [
    {
     "name": "stdout",
     "output_type": "stream",
     "text": [
      "{'Dream', 'Biscoe', 'Torgersen'}\n",
      "[[0. 0. 1.]\n",
      " [0. 0. 1.]\n",
      " [0. 0. 1.]\n",
      " ...\n",
      " [1. 0. 0.]\n",
      " [1. 0. 0.]\n",
      " [1. 0. 0.]]\n"
     ]
    }
   ],
   "source": [
    "df = load_dataset('penguins') # import the penguin data\n",
    "print(set(list(df['island']))) # show the 3 different kind of islands\n",
    "ohe = OneHotEncoder()\n",
    "transformed = ohe.fit_transform(df[['island']])\n",
    "print(transformed.toarray())"
   ]
  },
  {
   "cell_type": "markdown",
   "id": "640e3657",
   "metadata": {},
   "source": [
    "1. we loaded the dataset into a pandas dataframe\n",
    "2. we initialized a OneHotEncoder object and assigned it to ohe\n",
    "3. we fitted and transformed our data using the .fit_tranform() method\n",
    "4. we returned the array version of the transformed data using the .toarray() method\n",
    "\n",
    "we can see that each of the resulting three columns are binary values. There are three columns in the array, because there are three unique values in the island column. The columns are returned alphabetically\n",
    "\n",
    "we can access the column labels usingg the .categories attribute of the encoder"
   ]
  },
  {
   "cell_type": "code",
   "execution_count": 38,
   "id": "ca4f6cb1",
   "metadata": {},
   "outputs": [
    {
     "name": "stdout",
     "output_type": "stream",
     "text": [
      "[array(['Biscoe', 'Dream', 'Torgersen'], dtype=object)]\n"
     ]
    }
   ],
   "source": [
    "# getting one hot encoded categories\n",
    "print(ohe.categories_)"
   ]
  },
  {
   "cell_type": "markdown",
   "id": "d861c58d",
   "metadata": {},
   "source": [
    "Using ColumnTransformer with OneHotEncoder\n",
    "\n",
    "sklearn comes with a helper function ```make_column_transformer()``` which aids in the transformations of columns. The function generates ```ColumnTransformer``` objects and handles the transformations.\n",
    "This allows us to simply pass in a lost of transformations we want to do and the columns to which we want to apply them. It also handles the process of addinf the data back ino the original dataset."
   ]
  },
  {
   "cell_type": "code",
   "execution_count": 39,
   "id": "92f58fa3",
   "metadata": {},
   "outputs": [
    {
     "name": "stdout",
     "output_type": "stream",
     "text": [
      "[[0.0 0.0 1.0 ... 181.0 3750.0 'Male']\n",
      " [0.0 0.0 1.0 ... 186.0 3800.0 'Female']\n",
      " [0.0 0.0 1.0 ... 195.0 3250.0 'Female']\n",
      " ...\n",
      " [1.0 0.0 0.0 ... 222.0 5750.0 'Male']\n",
      " [1.0 0.0 0.0 ... 212.0 5200.0 'Female']\n",
      " [1.0 0.0 0.0 ... 213.0 5400.0 'Male']]\n"
     ]
    }
   ],
   "source": [
    "# Using make_column_transformer to One-Hot Encode\n",
    "from sklearn.preprocessing import OneHotEncoder\n",
    "from sklearn.compose import make_column_transformer\n",
    "from seaborn import load_dataset\n",
    "import pandas as pd\n",
    "\n",
    "df = load_dataset('penguins')\n",
    "\n",
    "transformer = make_column_transformer(\n",
    "        (OneHotEncoder(), ['island']),\n",
    "        remainder='passthrough')\n",
    "\n",
    "transformed = transformer.fit_transform(df)\n",
    "\n",
    "transformed_df = pd.DataFrame(\n",
    "        transformed,\n",
    "        columns=transformer.get_feature_names_out()\n",
    ")\n",
    "\n",
    "print(transformed)"
   ]
  },
  {
   "cell_type": "markdown",
   "id": "ac77eb85",
   "metadata": {},
   "source": [
    "1. we imported the ```make_column_transformer()``` function\n",
    "2. the function took a tuple containing the transformer we want to apply and the column to which to apply to. In this case, we wanted the ```OneHotEncoder()``` transformer and the ```'island'``` column\n",
    "3. we used the ```remainder='passthrough'``` parameter to specifiy that all other columns should be left untouched\n",
    "4. we then applied the ```.fit_transform()``` method to our dataframe\n",
    "5. we then, reconstructed the dataframe"
   ]
  },
  {
   "cell_type": "markdown",
   "id": "32502f03",
   "metadata": {},
   "source": [
    "One-Hot enconding multiple columns.\n",
    "the ```make_column_transformer()``` function makes it easy to one-hot encode multiple columns. In the argument where we specifiy which columns we want to apply transformations to, we can simply provide a list of additional columns"
   ]
  },
  {
   "cell_type": "code",
   "execution_count": 40,
   "id": "3c5af001",
   "metadata": {},
   "outputs": [
    {
     "name": "stdout",
     "output_type": "stream",
     "text": [
      "   onehotencoder__island_Biscoe  onehotencoder__island_Dream  \\\n",
      "0                           0.0                          0.0   \n",
      "1                           0.0                          0.0   \n",
      "2                           0.0                          0.0   \n",
      "3                           0.0                          0.0   \n",
      "4                           0.0                          0.0   \n",
      "5                           0.0                          0.0   \n",
      "6                           0.0                          0.0   \n",
      "7                           0.0                          0.0   \n",
      "8                           0.0                          0.0   \n",
      "9                           0.0                          0.0   \n",
      "\n",
      "   onehotencoder__island_Torgersen  onehotencoder__sex_Female  \\\n",
      "0                              1.0                        0.0   \n",
      "1                              1.0                        1.0   \n",
      "2                              1.0                        1.0   \n",
      "3                              1.0                        1.0   \n",
      "4                              1.0                        0.0   \n",
      "5                              1.0                        1.0   \n",
      "6                              1.0                        0.0   \n",
      "7                              1.0                        1.0   \n",
      "8                              1.0                        0.0   \n",
      "9                              1.0                        0.0   \n",
      "\n",
      "   onehotencoder__sex_Male  remainder__body_mass_g  \n",
      "0                      1.0                  3750.0  \n",
      "1                      0.0                  3800.0  \n",
      "2                      0.0                  3250.0  \n",
      "3                      0.0                  3450.0  \n",
      "4                      1.0                  3650.0  \n",
      "5                      0.0                  3625.0  \n",
      "6                      1.0                  4675.0  \n",
      "7                      0.0                  3200.0  \n",
      "8                      1.0                  3800.0  \n",
      "9                      1.0                  4400.0  \n"
     ]
    }
   ],
   "source": [
    "# one-hot encoding multiple columns\n",
    "\n",
    "df = load_dataset('penguins')\n",
    "df = df[['island', 'sex', 'body_mass_g']]\n",
    "df = df.dropna()\n",
    "\n",
    "transformer = make_column_transformer(\n",
    "    (OneHotEncoder(), ['island', 'sex']),\n",
    "    remainder='passthrough')\n",
    "\n",
    "transformed = transformer.fit_transform(df)\n",
    "\n",
    "transformed_df = pd.DataFrame(transformed,\n",
    "columns=transformer.get_feature_names_out())\n",
    "print(transformed_df.head(10))"
   ]
  },
  {
   "cell_type": "markdown",
   "id": "0d31a88f",
   "metadata": {},
   "source": [
    "First, we load the Ames Housing data as a pandas dataframe. The features are either categorical or numerical:"
   ]
  },
  {
   "cell_type": "code",
   "execution_count": 41,
   "id": "d5781594",
   "metadata": {},
   "outputs": [
    {
     "name": "stdout",
     "output_type": "stream",
     "text": [
      "number of samples:  1460\n",
      "number of features:  20\n",
      "number of categorical features:  10\n",
      "number of numerical fratures:  10\n"
     ]
    }
   ],
   "source": [
    "from sklearn.datasets import fetch_openml\n",
    "X, y = fetch_openml(data_id=42165, as_frame=True, return_X_y=True)\n",
    "\n",
    "# Select only a subset of features of X to make the example run faster\n",
    "categorical_columns_subset = [\n",
    "    \"BldgType\",\n",
    "    \"GarageFinish\",\n",
    "    \"LotConfig\",\n",
    "    \"Functional\",\n",
    "    \"MasVnrType\",\n",
    "    \"HouseStyle\",\n",
    "    \"FireplaceQu\",\n",
    "    \"ExterCond\",\n",
    "    \"ExterQual\",\n",
    "    \"PoolQC\",\n",
    "]\n",
    "\n",
    "numerical_columns_subset = [\n",
    "    \"3SsnPorch\",\n",
    "    \"Fireplaces\",\n",
    "    \"BsmtHalfBath\",\n",
    "    \"HalfBath\",\n",
    "    \"GarageCars\",\n",
    "    \"TotRmsAbvGrd\",\n",
    "    \"BsmtFinSF1\",\n",
    "    \"BsmtFinSF2\",\n",
    "    \"GrLivArea\",\n",
    "    \"ScreenPorch\",\n",
    "]\n",
    "\n",
    "X = X[categorical_columns_subset + numerical_columns_subset]\n",
    "X[categorical_columns_subset] = X[categorical_columns_subset].astype('category')\n",
    "\n",
    "n_categorical_features = X.select_dtypes(include='category').shape[1]\n",
    "n_numerical_features = X.select_dtypes(include='number').shape[1]\n",
    "\n",
    "print('number of samples: ', X.shape[0])\n",
    "print('number of features: ', X.shape[1])\n",
    "print('number of categorical features: ', n_categorical_features)\n",
    "print('number of numerical fratures: ', n_numerical_features)\n",
    "\n"
   ]
  },
  {
   "cell_type": "markdown",
   "id": "0306509e",
   "metadata": {},
   "source": [
    "Gradient boosting estimator with dropped categorical features:\n",
    "\n",
    "as a baseline, we create an estimator where the categorical features are dropped"
   ]
  },
  {
   "cell_type": "code",
   "execution_count": 42,
   "id": "8e1bb40a",
   "metadata": {},
   "outputs": [],
   "source": [
    "from sklearn.ensemble import HistGradientBoostingRegressor\n",
    "from sklearn.pipeline import make_pipeline\n",
    "from sklearn.compose import make_column_transformer\n",
    "from sklearn.compose import make_column_selector\n",
    "\n",
    "dropper = make_column_transformer(\n",
    "    (\"drop\", make_column_selector(dtype_include='category')), remainder='passthrough'\n",
    ")\n",
    "hist_dropped = make_pipeline(dropper, HistGradientBoostingRegressor(random_state=42))\n",
    "\n"
   ]
  },
  {
   "cell_type": "markdown",
   "id": "57db337b",
   "metadata": {},
   "source": [
    "Next, we create a pipeline that will one-hot encode the categorical features and let the rest of the numerical dta to passthrough"
   ]
  },
  {
   "cell_type": "code",
   "execution_count": 43,
   "id": "5ff4e670",
   "metadata": {},
   "outputs": [],
   "source": [
    "from sklearn.preprocessing import OneHotEncoder\n",
    "\n",
    "one_hot_encoder = make_column_transformer(\n",
    "    (\n",
    "        OneHotEncoder(sparse=False, handle_unknown='ignore'),\n",
    "        make_column_selector(dtype_include='category'),\n",
    "    ),\n",
    "    remainder='passthrough'\n",
    ")\n",
    "\n",
    "hist_one_hot = make_pipeline(\n",
    "one_hot_encoder, HistGradientBoostingRegressor(random_state=42))"
   ]
  },
  {
   "cell_type": "markdown",
   "id": "e0e554c7",
   "metadata": {},
   "source": [
    "Gradient boosting estimator with ordinal encoding\n",
    "\n",
    "Next, we create a pipeline that will treat categorical features as if they were ordered quantities, ie, the categories will be encoded as 0, 1, 2, etc., and treated as continuous features"
   ]
  },
  {
   "cell_type": "code",
   "execution_count": 44,
   "id": "73acb537",
   "metadata": {},
   "outputs": [],
   "source": [
    "from sklearn.preprocessing import OrdinalEncoder\n",
    "import numpy as np\n",
    "\n",
    "ordinal_encoder = make_column_transformer(\n",
    "    (\n",
    "        OrdinalEncoder(handle_unknown='use_encoded_value', unknown_value=np.nan),\n",
    "        make_column_selector(dtype_include='category'),\n",
    "    ),\n",
    "    remainder='passthrough',\n",
    ")\n",
    "\n",
    "hist_ordinal = make_pipeline(\n",
    "ordinal_encoder, HistGradientBoostingRegressor(random_state=42)\n",
    ")\n"
   ]
  },
  {
   "cell_type": "markdown",
   "id": "7c6633c5",
   "metadata": {},
   "source": [
    "We now create a ```HistGradientBoostingRegressor``` estimator that will nativley handle categorical features. This estimator will not treat categorical features as ordered quantities.\n",
    "\n",
    "Since the ```HistGradientBoostingRegressor``` requires category values to be encoded in ```[0, n)unique_categories - 1]``` we still rely on ```OrdinalEncoder``` to pre process the data\n",
    "\n",
    "The main difference between this pipeline and the previous one is that in this one, we let the ```HistGradientBoostingRegressor``` know which features are categorical"
   ]
  },
  {
   "cell_type": "code",
   "execution_count": 45,
   "id": "624ba554",
   "metadata": {},
   "outputs": [],
   "source": [
    "# the ordinal encoder will first output the categorical features,\n",
    "# and then the continuous features\n",
    "\n",
    "categorical_mask = [True] * n_categorical_features + [False] * n_numerical_features\n",
    "hist_native = make_pipeline(\n",
    "    ordinal_encoder,\n",
    "    HistGradientBoostingRegressor(\n",
    "        random_state=42, categorical_features=categorical_mask\n",
    "    ),\n",
    ")\n"
   ]
  },
  {
   "cell_type": "markdown",
   "id": "2cb4652a",
   "metadata": {},
   "source": [
    "Model comparison\n",
    "\n",
    "Finally, we evaluate the models using cross validation, here we compare the models performace in terms of ```mean_absoulte_percentage_error``` and fit times"
   ]
  },
  {
   "cell_type": "code",
   "execution_count": 46,
   "id": "4201ac15",
   "metadata": {},
   "outputs": [
    {
     "data": {
      "image/png": "[encoded data removed]",
      "text/plain": [
       "<Figure size 864x576 with 2 Axes>"
      ]
     },
     "metadata": {
      "needs_background": "light"
     },
     "output_type": "display_data"
    }
   ],
   "source": [
    "from sklearn.model_selection import cross_validate\n",
    "import matplotlib.pyplot as plt\n",
    "\n",
    "scoring = 'neg_mean_absolute_percentage_error'\n",
    "n_cv_folds = 3\n",
    "\n",
    "dropped_result = cross_validate(hist_dropped, X, y, cv=n_cv_folds, scoring=scoring)\n",
    "one_hot_result = cross_validate(hist_one_hot, X, y, cv=n_cv_folds, scoring=scoring)\n",
    "ordinal_result = cross_validate(hist_ordinal, X, y, cv=n_cv_folds, scoring=scoring)\n",
    "native_result = cross_validate(hist_native, X, y, cv=n_cv_folds, scoring=scoring)\n",
    "\n",
    "def plot_results(figure_title):\n",
    "    fig, (ax1, ax2) = plt.subplots(1, 2, figsize=(12, 8))\n",
    "\n",
    "    plot_info = [\n",
    "        (\"fit_time\", \"Fit times (s)\", ax1, None),\n",
    "        (\"test_score\", \"Mean Absolute Percentage Error\", ax2, None),\n",
    "    ]\n",
    "\n",
    "    x, width = np.arange(4), 0.9\n",
    "    for key, title, ax, y_limit in plot_info:\n",
    "        items = [\n",
    "            dropped_result[key],\n",
    "            one_hot_result[key],\n",
    "            ordinal_result[key],\n",
    "            native_result[key],\n",
    "        ]\n",
    "\n",
    "        mape_cv_mean = [np.mean(np.abs(item)) for item in items]\n",
    "        mape_cv_std = [np.std(item) for item in items]\n",
    "\n",
    "        ax.bar(\n",
    "            x=x,\n",
    "            height=mape_cv_mean,\n",
    "            width=width,\n",
    "            yerr=mape_cv_std,\n",
    "            color=[\"C0\", \"C1\", \"C2\", \"C3\"],\n",
    "        )\n",
    "        ax.set(\n",
    "            xlabel=\"Model\",\n",
    "            title=title,\n",
    "            xticks=x,\n",
    "            xticklabels=[\"Dropped\", \"One Hot\", \"Ordinal\", \"Native\"],\n",
    "            ylim=y_limit,\n",
    "        )\n",
    "    fig.suptitle(figure_title)\n",
    "\n",
    "\n",
    "plot_results(\"Gradient Boosting on Ames Housing\")"
   ]
  },
  {
   "cell_type": "markdown",
   "id": "55b2fab5",
   "metadata": {},
   "source": [
    "We see that the model with one-hot-encoded data is by far the slowest. This is to be expected, since one-hot-encoding creates one additional feature per category value (for each categorical feature), and thus more split points need to be considered during fitting. In theory, we expect the native handling of categorical features to be slightly slower than treating categories as ordered quantities (‘Ordinal’), since native handling requires sorting categories. Fitting times should however be close when the number of categories is small, and this may not always be reflected in practice.\n",
    "\n",
    "In terms of prediction performance, dropping the categorical features leads to poorer performance. The three models that use categorical features have comparable error rates, with a slight edge for the native handling."
   ]
  },
  {
   "cell_type": "markdown",
   "id": "9f9c7864",
   "metadata": {},
   "source": [
    "# One-hot with Pytorch #"
   ]
  },
  {
   "cell_type": "code",
   "execution_count": null,
   "id": "7ab9e54c",
   "metadata": {},
   "outputs": [],
   "source": []
  },
  {
   "cell_type": "code",
   "execution_count": null,
   "id": "8da3e9a2",
   "metadata": {},
   "outputs": [],
   "source": []
  }
 ],
 "metadata": {
  "kernelspec": {
   "display_name": "venv",
   "language": "python",
   "name": "venv"
  },
  "language_info": {
   "codemirror_mode": {
    "name": "ipython",
    "version": 3
   },
   "file_extension": ".py",
   "mimetype": "text/x-python",
   "name": "python",
   "nbconvert_exporter": "python",
   "pygments_lexer": "ipython3",
   "version": "3.9.13"
  }
 },
 "nbformat": 4,
 "nbformat_minor": 5
}
